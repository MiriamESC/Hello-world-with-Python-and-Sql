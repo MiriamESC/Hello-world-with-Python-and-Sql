{
 "cells": [
  {
   "cell_type": "code",
   "execution_count": 1,
   "id": "0c14020d",
   "metadata": {},
   "outputs": [
    {
     "name": "stdout",
     "output_type": "stream",
     "text": [
      "Collecting jupyter-cjk-xelatex\n",
      "  Downloading jupyter-cjk-xelatex-0.2.tar.gz (1.6 kB)\n",
      "Requirement already satisfied: jupyter in c:\\users\\hp\\appdata\\local\\programs\\python\\python39\\lib\\site-packages (from jupyter-cjk-xelatex) (1.0.0)\n",
      "Requirement already satisfied: ipywidgets in c:\\users\\hp\\appdata\\local\\programs\\python\\python39\\lib\\site-packages (from jupyter->jupyter-cjk-xelatex) (7.6.3)\n",
      "Requirement already satisfied: ipykernel in c:\\users\\hp\\appdata\\local\\programs\\python\\python39\\lib\\site-packages (from jupyter->jupyter-cjk-xelatex) (5.5.3)\n",
      "Requirement already satisfied: jupyter-console in c:\\users\\hp\\appdata\\local\\programs\\python\\python39\\lib\\site-packages (from jupyter->jupyter-cjk-xelatex) (6.4.0)\n",
      "Requirement already satisfied: notebook in c:\\users\\hp\\appdata\\local\\programs\\python\\python39\\lib\\site-packages (from jupyter->jupyter-cjk-xelatex) (6.3.0)\n",
      "Requirement already satisfied: qtconsole in c:\\users\\hp\\appdata\\local\\programs\\python\\python39\\lib\\site-packages (from jupyter->jupyter-cjk-xelatex) (5.1.0)\n",
      "Requirement already satisfied: nbconvert in c:\\users\\hp\\appdata\\local\\programs\\python\\python39\\lib\\site-packages (from jupyter->jupyter-cjk-xelatex) (6.0.7)\n",
      "Requirement already satisfied: traitlets>=4.1.0 in c:\\users\\hp\\appdata\\local\\programs\\python\\python39\\lib\\site-packages (from ipykernel->jupyter->jupyter-cjk-xelatex) (5.0.5)\n",
      "Requirement already satisfied: tornado>=4.2 in c:\\users\\hp\\appdata\\local\\programs\\python\\python39\\lib\\site-packages (from ipykernel->jupyter->jupyter-cjk-xelatex) (6.1)\n",
      "Requirement already satisfied: jupyter-client in c:\\users\\hp\\appdata\\local\\programs\\python\\python39\\lib\\site-packages (from ipykernel->jupyter->jupyter-cjk-xelatex) (6.1.12)\n",
      "Requirement already satisfied: ipython>=5.0.0 in c:\\users\\hp\\appdata\\local\\programs\\python\\python39\\lib\\site-packages (from ipykernel->jupyter->jupyter-cjk-xelatex) (7.23.0)\n",
      "Requirement already satisfied: backcall in c:\\users\\hp\\appdata\\local\\programs\\python\\python39\\lib\\site-packages (from ipython>=5.0.0->ipykernel->jupyter->jupyter-cjk-xelatex) (0.2.0)\n",
      "Requirement already satisfied: jedi>=0.16 in c:\\users\\hp\\appdata\\local\\programs\\python\\python39\\lib\\site-packages (from ipython>=5.0.0->ipykernel->jupyter->jupyter-cjk-xelatex) (0.18.0)\n",
      "Requirement already satisfied: pickleshare in c:\\users\\hp\\appdata\\local\\programs\\python\\python39\\lib\\site-packages (from ipython>=5.0.0->ipykernel->jupyter->jupyter-cjk-xelatex) (0.7.5)\n",
      "Requirement already satisfied: matplotlib-inline in c:\\users\\hp\\appdata\\local\\programs\\python\\python39\\lib\\site-packages (from ipython>=5.0.0->ipykernel->jupyter->jupyter-cjk-xelatex) (0.1.2)\n",
      "Requirement already satisfied: colorama in c:\\users\\hp\\appdata\\local\\programs\\python\\python39\\lib\\site-packages (from ipython>=5.0.0->ipykernel->jupyter->jupyter-cjk-xelatex) (0.4.4)\n",
      "Requirement already satisfied: prompt-toolkit!=3.0.0,!=3.0.1,<3.1.0,>=2.0.0 in c:\\users\\hp\\appdata\\local\\programs\\python\\python39\\lib\\site-packages (from ipython>=5.0.0->ipykernel->jupyter->jupyter-cjk-xelatex) (3.0.18)\n",
      "Requirement already satisfied: setuptools>=18.5 in c:\\users\\hp\\appdata\\local\\programs\\python\\python39\\lib\\site-packages (from ipython>=5.0.0->ipykernel->jupyter->jupyter-cjk-xelatex) (49.2.1)\n",
      "Requirement already satisfied: pygments in c:\\users\\hp\\appdata\\local\\programs\\python\\python39\\lib\\site-packages (from ipython>=5.0.0->ipykernel->jupyter->jupyter-cjk-xelatex) (2.8.1)\n",
      "Requirement already satisfied: decorator in c:\\users\\hp\\appdata\\local\\programs\\python\\python39\\lib\\site-packages (from ipython>=5.0.0->ipykernel->jupyter->jupyter-cjk-xelatex) (5.0.7)\n",
      "Requirement already satisfied: parso<0.9.0,>=0.8.0 in c:\\users\\hp\\appdata\\local\\programs\\python\\python39\\lib\\site-packages (from jedi>=0.16->ipython>=5.0.0->ipykernel->jupyter->jupyter-cjk-xelatex) (0.8.2)\n",
      "Requirement already satisfied: wcwidth in c:\\users\\hp\\appdata\\local\\programs\\python\\python39\\lib\\site-packages (from prompt-toolkit!=3.0.0,!=3.0.1,<3.1.0,>=2.0.0->ipython>=5.0.0->ipykernel->jupyter->jupyter-cjk-xelatex) (0.2.5)\n",
      "Requirement already satisfied: ipython-genutils in c:\\users\\hp\\appdata\\local\\programs\\python\\python39\\lib\\site-packages (from traitlets>=4.1.0->ipykernel->jupyter->jupyter-cjk-xelatex) (0.2.0)\n",
      "Requirement already satisfied: nbformat>=4.2.0 in c:\\users\\hp\\appdata\\local\\programs\\python\\python39\\lib\\site-packages (from ipywidgets->jupyter->jupyter-cjk-xelatex) (5.1.3)\n",
      "Requirement already satisfied: jupyterlab-widgets>=1.0.0 in c:\\users\\hp\\appdata\\local\\programs\\python\\python39\\lib\\site-packages (from ipywidgets->jupyter->jupyter-cjk-xelatex) (1.0.0)\n",
      "Requirement already satisfied: widgetsnbextension~=3.5.0 in c:\\users\\hp\\appdata\\local\\programs\\python\\python39\\lib\\site-packages (from ipywidgets->jupyter->jupyter-cjk-xelatex) (3.5.1)\n",
      "Requirement already satisfied: jupyter-core in c:\\users\\hp\\appdata\\local\\programs\\python\\python39\\lib\\site-packages (from nbformat>=4.2.0->ipywidgets->jupyter->jupyter-cjk-xelatex) (4.7.1)\n",
      "Requirement already satisfied: jsonschema!=2.5.0,>=2.4 in c:\\users\\hp\\appdata\\local\\programs\\python\\python39\\lib\\site-packages (from nbformat>=4.2.0->ipywidgets->jupyter->jupyter-cjk-xelatex) (3.2.0)\n",
      "Requirement already satisfied: six>=1.11.0 in c:\\users\\hp\\appdata\\local\\programs\\python\\python39\\lib\\site-packages (from jsonschema!=2.5.0,>=2.4->nbformat>=4.2.0->ipywidgets->jupyter->jupyter-cjk-xelatex) (1.15.0)\n",
      "Requirement already satisfied: attrs>=17.4.0 in c:\\users\\hp\\appdata\\local\\programs\\python\\python39\\lib\\site-packages (from jsonschema!=2.5.0,>=2.4->nbformat>=4.2.0->ipywidgets->jupyter->jupyter-cjk-xelatex) (20.3.0)\n",
      "Requirement already satisfied: pyrsistent>=0.14.0 in c:\\users\\hp\\appdata\\local\\programs\\python\\python39\\lib\\site-packages (from jsonschema!=2.5.0,>=2.4->nbformat>=4.2.0->ipywidgets->jupyter->jupyter-cjk-xelatex) (0.17.3)\n",
      "Requirement already satisfied: jinja2 in c:\\users\\hp\\appdata\\local\\programs\\python\\python39\\lib\\site-packages (from notebook->jupyter->jupyter-cjk-xelatex) (2.11.3)\n",
      "Requirement already satisfied: argon2-cffi in c:\\users\\hp\\appdata\\local\\programs\\python\\python39\\lib\\site-packages (from notebook->jupyter->jupyter-cjk-xelatex) (20.1.0)\n",
      "Requirement already satisfied: pyzmq>=17 in c:\\users\\hp\\appdata\\local\\programs\\python\\python39\\lib\\site-packages (from notebook->jupyter->jupyter-cjk-xelatex) (22.0.3)\n",
      "Requirement already satisfied: terminado>=0.8.3 in c:\\users\\hp\\appdata\\local\\programs\\python\\python39\\lib\\site-packages (from notebook->jupyter->jupyter-cjk-xelatex) (0.9.4)\n",
      "Requirement already satisfied: prometheus-client in c:\\users\\hp\\appdata\\local\\programs\\python\\python39\\lib\\site-packages (from notebook->jupyter->jupyter-cjk-xelatex) (0.10.1)\n",
      "Requirement already satisfied: Send2Trash>=1.5.0 in c:\\users\\hp\\appdata\\local\\programs\\python\\python39\\lib\\site-packages (from notebook->jupyter->jupyter-cjk-xelatex) (1.5.0)\n",
      "Requirement already satisfied: python-dateutil>=2.1 in c:\\users\\hp\\appdata\\local\\programs\\python\\python39\\lib\\site-packages (from jupyter-client->ipykernel->jupyter->jupyter-cjk-xelatex) (2.8.1)\n",
      "Requirement already satisfied: pywin32>=1.0 in c:\\users\\hp\\appdata\\local\\programs\\python\\python39\\lib\\site-packages (from jupyter-core->nbformat>=4.2.0->ipywidgets->jupyter->jupyter-cjk-xelatex) (300)\n",
      "Requirement already satisfied: pywinpty>=0.5 in c:\\users\\hp\\appdata\\local\\programs\\python\\python39\\lib\\site-packages (from terminado>=0.8.3->notebook->jupyter->jupyter-cjk-xelatex) (1.0.1)\n",
      "Requirement already satisfied: cffi>=1.0.0 in c:\\users\\hp\\appdata\\local\\programs\\python\\python39\\lib\\site-packages (from argon2-cffi->notebook->jupyter->jupyter-cjk-xelatex) (1.14.5)\n",
      "Requirement already satisfied: pycparser in c:\\users\\hp\\appdata\\local\\programs\\python\\python39\\lib\\site-packages (from cffi>=1.0.0->argon2-cffi->notebook->jupyter->jupyter-cjk-xelatex) (2.20)\n",
      "Requirement already satisfied: MarkupSafe>=0.23 in c:\\users\\hp\\appdata\\local\\programs\\python\\python39\\lib\\site-packages (from jinja2->notebook->jupyter->jupyter-cjk-xelatex) (1.1.1)\n",
      "Requirement already satisfied: mistune<2,>=0.8.1 in c:\\users\\hp\\appdata\\local\\programs\\python\\python39\\lib\\site-packages (from nbconvert->jupyter->jupyter-cjk-xelatex) (0.8.4)\n",
      "Requirement already satisfied: testpath in c:\\users\\hp\\appdata\\local\\programs\\python\\python39\\lib\\site-packages (from nbconvert->jupyter->jupyter-cjk-xelatex) (0.4.4)\n",
      "Requirement already satisfied: jupyterlab-pygments in c:\\users\\hp\\appdata\\local\\programs\\python\\python39\\lib\\site-packages (from nbconvert->jupyter->jupyter-cjk-xelatex) (0.1.2)\n",
      "Requirement already satisfied: pandocfilters>=1.4.1 in c:\\users\\hp\\appdata\\local\\programs\\python\\python39\\lib\\site-packages (from nbconvert->jupyter->jupyter-cjk-xelatex) (1.4.3)\n",
      "Requirement already satisfied: bleach in c:\\users\\hp\\appdata\\local\\programs\\python\\python39\\lib\\site-packages (from nbconvert->jupyter->jupyter-cjk-xelatex) (3.3.0)\n",
      "Requirement already satisfied: nbclient<0.6.0,>=0.5.0 in c:\\users\\hp\\appdata\\local\\programs\\python\\python39\\lib\\site-packages (from nbconvert->jupyter->jupyter-cjk-xelatex) (0.5.3)\n",
      "Requirement already satisfied: defusedxml in c:\\users\\hp\\appdata\\local\\programs\\python\\python39\\lib\\site-packages (from nbconvert->jupyter->jupyter-cjk-xelatex) (0.7.1)\n",
      "Requirement already satisfied: entrypoints>=0.2.2 in c:\\users\\hp\\appdata\\local\\programs\\python\\python39\\lib\\site-packages (from nbconvert->jupyter->jupyter-cjk-xelatex) (0.3)\n",
      "Requirement already satisfied: async-generator in c:\\users\\hp\\appdata\\local\\programs\\python\\python39\\lib\\site-packages (from nbclient<0.6.0,>=0.5.0->nbconvert->jupyter->jupyter-cjk-xelatex) (1.10)\n",
      "Requirement already satisfied: nest-asyncio in c:\\users\\hp\\appdata\\local\\programs\\python\\python39\\lib\\site-packages (from nbclient<0.6.0,>=0.5.0->nbconvert->jupyter->jupyter-cjk-xelatex) (1.5.1)\n",
      "Requirement already satisfied: packaging in c:\\users\\hp\\appdata\\local\\programs\\python\\python39\\lib\\site-packages (from bleach->nbconvert->jupyter->jupyter-cjk-xelatex) (20.9)\n",
      "Requirement already satisfied: webencodings in c:\\users\\hp\\appdata\\local\\programs\\python\\python39\\lib\\site-packages (from bleach->nbconvert->jupyter->jupyter-cjk-xelatex) (0.5.1)\n",
      "Requirement already satisfied: pyparsing>=2.0.2 in c:\\users\\hp\\appdata\\local\\programs\\python\\python39\\lib\\site-packages (from packaging->bleach->nbconvert->jupyter->jupyter-cjk-xelatex) (2.4.7)\n",
      "Requirement already satisfied: qtpy in c:\\users\\hp\\appdata\\local\\programs\\python\\python39\\lib\\site-packages (from qtconsole->jupyter->jupyter-cjk-xelatex) (1.9.0)\n",
      "Using legacy 'setup.py install' for jupyter-cjk-xelatex, since package 'wheel' is not installed.\n",
      "Installing collected packages: jupyter-cjk-xelatex\n",
      "    Running setup.py install for jupyter-cjk-xelatex: started\n",
      "    Running setup.py install for jupyter-cjk-xelatex: finished with status 'done'\n",
      "Successfully installed jupyter-cjk-xelatex-0.2\n"
     ]
    }
   ],
   "source": [
    "!pip install jupyter-cjk-xelatex"
   ]
  },
  {
   "cell_type": "code",
   "execution_count": null,
   "id": "d95422d1",
   "metadata": {},
   "outputs": [],
   "source": []
  }
 ],
 "metadata": {
  "kernelspec": {
   "display_name": "Python 3",
   "language": "python",
   "name": "python3"
  },
  "language_info": {
   "codemirror_mode": {
    "name": "ipython",
    "version": 3
   },
   "file_extension": ".py",
   "mimetype": "text/x-python",
   "name": "python",
   "nbconvert_exporter": "python",
   "pygments_lexer": "ipython3",
   "version": "3.9.4"
  }
 },
 "nbformat": 4,
 "nbformat_minor": 5
}
